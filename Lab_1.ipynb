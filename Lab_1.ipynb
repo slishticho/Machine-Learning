{
 "cells": [
  {
   "cell_type": "code",
   "execution_count": 2,
   "metadata": {},
   "outputs": [],
   "source": [
    "import pandas\n",
    "\n",
    "data = pandas.read_csv('2019_nC0v_20200121_20200126 - SUMMARY.csv')"
   ]
  },
  {
   "cell_type": "code",
   "execution_count": 3,
   "metadata": {
    "scrolled": true
   },
   "outputs": [
    {
     "data": {
      "text/html": [
       "<div>\n",
       "<style scoped>\n",
       "    .dataframe tbody tr th:only-of-type {\n",
       "        vertical-align: middle;\n",
       "    }\n",
       "\n",
       "    .dataframe tbody tr th {\n",
       "        vertical-align: top;\n",
       "    }\n",
       "\n",
       "    .dataframe thead th {\n",
       "        text-align: right;\n",
       "    }\n",
       "</style>\n",
       "<table border=\"1\" class=\"dataframe\">\n",
       "  <thead>\n",
       "    <tr style=\"text-align: right;\">\n",
       "      <th></th>\n",
       "      <th>Province/State</th>\n",
       "      <th>Country</th>\n",
       "      <th>Date last updated</th>\n",
       "      <th>Confirmed</th>\n",
       "      <th>Suspected</th>\n",
       "      <th>Recovered</th>\n",
       "      <th>Deaths</th>\n",
       "    </tr>\n",
       "  </thead>\n",
       "  <tbody>\n",
       "    <tr>\n",
       "      <th>0</th>\n",
       "      <td>Shanghai</td>\n",
       "      <td>Mainland China</td>\n",
       "      <td>1/21/2020</td>\n",
       "      <td>9.0</td>\n",
       "      <td>10.0</td>\n",
       "      <td>NaN</td>\n",
       "      <td>NaN</td>\n",
       "    </tr>\n",
       "    <tr>\n",
       "      <th>1</th>\n",
       "      <td>Yunnan</td>\n",
       "      <td>Mainland China</td>\n",
       "      <td>1/21/2020</td>\n",
       "      <td>1.0</td>\n",
       "      <td>NaN</td>\n",
       "      <td>NaN</td>\n",
       "      <td>NaN</td>\n",
       "    </tr>\n",
       "    <tr>\n",
       "      <th>2</th>\n",
       "      <td>Beijing</td>\n",
       "      <td>Mainland China</td>\n",
       "      <td>1/21/2020</td>\n",
       "      <td>10.0</td>\n",
       "      <td>NaN</td>\n",
       "      <td>NaN</td>\n",
       "      <td>NaN</td>\n",
       "    </tr>\n",
       "    <tr>\n",
       "      <th>3</th>\n",
       "      <td>Taiwan</td>\n",
       "      <td>Mainland China</td>\n",
       "      <td>1/21/2020</td>\n",
       "      <td>1.0</td>\n",
       "      <td>NaN</td>\n",
       "      <td>NaN</td>\n",
       "      <td>NaN</td>\n",
       "    </tr>\n",
       "    <tr>\n",
       "      <th>4</th>\n",
       "      <td>Jilin</td>\n",
       "      <td>Mainland China</td>\n",
       "      <td>1/21/2020</td>\n",
       "      <td>NaN</td>\n",
       "      <td>1.0</td>\n",
       "      <td>NaN</td>\n",
       "      <td>NaN</td>\n",
       "    </tr>\n",
       "    <tr>\n",
       "      <th>...</th>\n",
       "      <td>...</td>\n",
       "      <td>...</td>\n",
       "      <td>...</td>\n",
       "      <td>...</td>\n",
       "      <td>...</td>\n",
       "      <td>...</td>\n",
       "      <td>...</td>\n",
       "    </tr>\n",
       "    <tr>\n",
       "      <th>363</th>\n",
       "      <td>NaN</td>\n",
       "      <td>France</td>\n",
       "      <td>1/26/2020 11:00 AM</td>\n",
       "      <td>3.0</td>\n",
       "      <td>NaN</td>\n",
       "      <td>NaN</td>\n",
       "      <td>NaN</td>\n",
       "    </tr>\n",
       "    <tr>\n",
       "      <th>364</th>\n",
       "      <td>NaN</td>\n",
       "      <td>Australia</td>\n",
       "      <td>1/26/2020 11:00 AM</td>\n",
       "      <td>4.0</td>\n",
       "      <td>NaN</td>\n",
       "      <td>NaN</td>\n",
       "      <td>NaN</td>\n",
       "    </tr>\n",
       "    <tr>\n",
       "      <th>365</th>\n",
       "      <td>NaN</td>\n",
       "      <td>Nepal</td>\n",
       "      <td>1/26/2020 11:00 AM</td>\n",
       "      <td>1.0</td>\n",
       "      <td>NaN</td>\n",
       "      <td>NaN</td>\n",
       "      <td>NaN</td>\n",
       "    </tr>\n",
       "    <tr>\n",
       "      <th>366</th>\n",
       "      <td>NaN</td>\n",
       "      <td>Malaysia</td>\n",
       "      <td>1/26/2020 11:00 AM</td>\n",
       "      <td>4.0</td>\n",
       "      <td>NaN</td>\n",
       "      <td>NaN</td>\n",
       "      <td>NaN</td>\n",
       "    </tr>\n",
       "    <tr>\n",
       "      <th>367</th>\n",
       "      <td>Ontario</td>\n",
       "      <td>Canada</td>\n",
       "      <td>1/26/2020 11:00 AM</td>\n",
       "      <td>1.0</td>\n",
       "      <td>NaN</td>\n",
       "      <td>NaN</td>\n",
       "      <td>NaN</td>\n",
       "    </tr>\n",
       "  </tbody>\n",
       "</table>\n",
       "<p>368 rows × 7 columns</p>\n",
       "</div>"
      ],
      "text/plain": [
       "    Province/State         Country   Date last updated  Confirmed  Suspected  \\\n",
       "0         Shanghai  Mainland China           1/21/2020        9.0       10.0   \n",
       "1           Yunnan  Mainland China           1/21/2020        1.0        NaN   \n",
       "2          Beijing  Mainland China           1/21/2020       10.0        NaN   \n",
       "3           Taiwan  Mainland China           1/21/2020        1.0        NaN   \n",
       "4            Jilin  Mainland China           1/21/2020        NaN        1.0   \n",
       "..             ...             ...                 ...        ...        ...   \n",
       "363            NaN          France  1/26/2020 11:00 AM        3.0        NaN   \n",
       "364            NaN       Australia  1/26/2020 11:00 AM        4.0        NaN   \n",
       "365            NaN           Nepal  1/26/2020 11:00 AM        1.0        NaN   \n",
       "366            NaN        Malaysia  1/26/2020 11:00 AM        4.0        NaN   \n",
       "367        Ontario          Canada  1/26/2020 11:00 AM        1.0        NaN   \n",
       "\n",
       "     Recovered  Deaths  \n",
       "0          NaN     NaN  \n",
       "1          NaN     NaN  \n",
       "2          NaN     NaN  \n",
       "3          NaN     NaN  \n",
       "4          NaN     NaN  \n",
       "..         ...     ...  \n",
       "363        NaN     NaN  \n",
       "364        NaN     NaN  \n",
       "365        NaN     NaN  \n",
       "366        NaN     NaN  \n",
       "367        NaN     NaN  \n",
       "\n",
       "[368 rows x 7 columns]"
      ]
     },
     "execution_count": 3,
     "metadata": {},
     "output_type": "execute_result"
    }
   ],
   "source": [
    "data[:]"
   ]
  },
  {
   "cell_type": "code",
   "execution_count": 4,
   "metadata": {},
   "outputs": [
    {
     "name": "stdout",
     "output_type": "stream",
     "text": [
      "<class 'pandas.core.frame.DataFrame'>\n",
      "RangeIndex: 368 entries, 0 to 367\n",
      "Data columns (total 7 columns):\n",
      "Province/State       304 non-null object\n",
      "Country              368 non-null object\n",
      "Date last updated    368 non-null object\n",
      "Confirmed            339 non-null float64\n",
      "Suspected            88 non-null float64\n",
      "Recovered            36 non-null float64\n",
      "Deaths               24 non-null float64\n",
      "dtypes: float64(4), object(3)\n",
      "memory usage: 20.2+ KB\n"
     ]
    }
   ],
   "source": [
    "data.info()"
   ]
  },
  {
   "cell_type": "code",
   "execution_count": 5,
   "metadata": {},
   "outputs": [
    {
     "data": {
      "text/plain": [
       "1.0     18\n",
       "2.0     11\n",
       "42.0     2\n",
       "32.0     2\n",
       "31.0     2\n",
       "28.0     1\n",
       "Name: Recovered, dtype: int64"
      ]
     },
     "execution_count": 5,
     "metadata": {},
     "output_type": "execute_result"
    }
   ],
   "source": [
    "data['Recovered'].value_counts()"
   ]
  },
  {
   "cell_type": "code",
   "execution_count": 7,
   "metadata": {},
   "outputs": [
    {
     "data": {
      "text/html": [
       "<div>\n",
       "<style scoped>\n",
       "    .dataframe tbody tr th:only-of-type {\n",
       "        vertical-align: middle;\n",
       "    }\n",
       "\n",
       "    .dataframe tbody tr th {\n",
       "        vertical-align: top;\n",
       "    }\n",
       "\n",
       "    .dataframe thead th {\n",
       "        text-align: right;\n",
       "    }\n",
       "</style>\n",
       "<table border=\"1\" class=\"dataframe\">\n",
       "  <thead>\n",
       "    <tr style=\"text-align: right;\">\n",
       "      <th></th>\n",
       "      <th>Confirmed</th>\n",
       "      <th>Suspected</th>\n",
       "      <th>Recovered</th>\n",
       "      <th>Deaths</th>\n",
       "    </tr>\n",
       "  </thead>\n",
       "  <tbody>\n",
       "    <tr>\n",
       "      <th>count</th>\n",
       "      <td>339.000000</td>\n",
       "      <td>88.000000</td>\n",
       "      <td>36.000000</td>\n",
       "      <td>24.000000</td>\n",
       "    </tr>\n",
       "    <tr>\n",
       "      <th>mean</th>\n",
       "      <td>30.351032</td>\n",
       "      <td>22.613636</td>\n",
       "      <td>7.722222</td>\n",
       "      <td>11.041667</td>\n",
       "    </tr>\n",
       "    <tr>\n",
       "      <th>std</th>\n",
       "      <td>112.556169</td>\n",
       "      <td>48.177696</td>\n",
       "      <td>13.306521</td>\n",
       "      <td>17.521364</td>\n",
       "    </tr>\n",
       "    <tr>\n",
       "      <th>min</th>\n",
       "      <td>1.000000</td>\n",
       "      <td>1.000000</td>\n",
       "      <td>1.000000</td>\n",
       "      <td>1.000000</td>\n",
       "    </tr>\n",
       "    <tr>\n",
       "      <th>25%</th>\n",
       "      <td>2.000000</td>\n",
       "      <td>1.000000</td>\n",
       "      <td>1.000000</td>\n",
       "      <td>1.000000</td>\n",
       "    </tr>\n",
       "    <tr>\n",
       "      <th>50%</th>\n",
       "      <td>5.000000</td>\n",
       "      <td>4.000000</td>\n",
       "      <td>1.500000</td>\n",
       "      <td>1.000000</td>\n",
       "    </tr>\n",
       "    <tr>\n",
       "      <th>75%</th>\n",
       "      <td>18.000000</td>\n",
       "      <td>22.000000</td>\n",
       "      <td>2.000000</td>\n",
       "      <td>18.750000</td>\n",
       "    </tr>\n",
       "    <tr>\n",
       "      <th>max</th>\n",
       "      <td>1058.000000</td>\n",
       "      <td>244.000000</td>\n",
       "      <td>42.000000</td>\n",
       "      <td>52.000000</td>\n",
       "    </tr>\n",
       "  </tbody>\n",
       "</table>\n",
       "</div>"
      ],
      "text/plain": [
       "         Confirmed   Suspected  Recovered     Deaths\n",
       "count   339.000000   88.000000  36.000000  24.000000\n",
       "mean     30.351032   22.613636   7.722222  11.041667\n",
       "std     112.556169   48.177696  13.306521  17.521364\n",
       "min       1.000000    1.000000   1.000000   1.000000\n",
       "25%       2.000000    1.000000   1.000000   1.000000\n",
       "50%       5.000000    4.000000   1.500000   1.000000\n",
       "75%      18.000000   22.000000   2.000000  18.750000\n",
       "max    1058.000000  244.000000  42.000000  52.000000"
      ]
     },
     "execution_count": 7,
     "metadata": {},
     "output_type": "execute_result"
    }
   ],
   "source": [
    "data.describe()"
   ]
  },
  {
   "cell_type": "code",
   "execution_count": 49,
   "metadata": {},
   "outputs": [
    {
     "name": "stdout",
     "output_type": "stream",
     "text": [
      "Hebei\t1.0\n",
      "Hubei\t17.0\n",
      "Hubei\t24.0\n",
      "Heilongjiang\t1.0\n",
      "Hebei\t1.0\n",
      "Hubei\t24.0\n",
      "Heilongjiang\t1.0\n",
      "Hebei\t1.0\n",
      "Hubei\t39.0\n",
      "Heilongjiang\t1.0\n",
      "Hebei\t1.0\n",
      "Hubei\t40.0\n",
      "Heilongjiang\t1.0\n",
      "Hebei\t1.0\n",
      "Hubei\t52.0\n",
      "Henan\t1.0\n",
      "Shanghai\t1.0\n",
      "Fujian\t1.0\n",
      "Hebei\t1.0\n",
      "Hubei\t52.0\n",
      "Henan\t1.0\n",
      "Shanghai\t1.0\n",
      "Heilongjiang\t1.0\n",
      "Hebei\t1.0\n"
     ]
    }
   ],
   "source": [
    "#Количество сметрей от коронавируса\n",
    "import math\n",
    "for i in range(len(data['Deaths'])):\n",
    "    if math.isnan(data['Deaths'][i]) == False:\n",
    "        print(str(data['Province/State'][i]) + '\\t' + str(data['Deaths'][i]))\n",
    "# array = []\n",
    "# for i in range(len(data['Deaths'])):\n",
    "#     if math.isnan(data['Deaths'][i]) == False and data['Deaths'][i] not in array:\n",
    "#         array.append(data['Deaths'][i])\n",
    "# print(array)\n",
    "# data['Deaths'][array[1]]\n",
    "# data['Deaths'][17]"
   ]
  },
  {
   "cell_type": "code",
   "execution_count": 9,
   "metadata": {},
   "outputs": [
    {
     "data": {
      "image/png": "[encoded data removed]",
      "text/plain": [
       "<Figure size 1440x1080 with 4 Axes>"
      ]
     },
     "metadata": {
      "needs_background": "light"
     },
     "output_type": "display_data"
    }
   ],
   "source": [
    "import matplotlib.pyplot as plt\n",
    "%matplotlib inline\n",
    "data.hist(bins=10, figsize= (20, 15))\n",
    "plt.show()"
   ]
  },
  {
   "cell_type": "code",
   "execution_count": 10,
   "metadata": {},
   "outputs": [
    {
     "name": "stdout",
     "output_type": "stream",
     "text": [
      "294 train + 74 test\n"
     ]
    },
    {
     "data": {
      "text/html": [
       "<div>\n",
       "<style scoped>\n",
       "    .dataframe tbody tr th:only-of-type {\n",
       "        vertical-align: middle;\n",
       "    }\n",
       "\n",
       "    .dataframe tbody tr th {\n",
       "        vertical-align: top;\n",
       "    }\n",
       "\n",
       "    .dataframe thead th {\n",
       "        text-align: right;\n",
       "    }\n",
       "</style>\n",
       "<table border=\"1\" class=\"dataframe\">\n",
       "  <thead>\n",
       "    <tr style=\"text-align: right;\">\n",
       "      <th></th>\n",
       "      <th>Province/State</th>\n",
       "      <th>Country</th>\n",
       "      <th>Date last updated</th>\n",
       "      <th>Confirmed</th>\n",
       "      <th>Suspected</th>\n",
       "      <th>Recovered</th>\n",
       "      <th>Deaths</th>\n",
       "    </tr>\n",
       "  </thead>\n",
       "  <tbody>\n",
       "    <tr>\n",
       "      <th>165</th>\n",
       "      <td>Tianjin</td>\n",
       "      <td>Mainland China</td>\n",
       "      <td>1/24/2020 12:00 PM</td>\n",
       "      <td>8.0</td>\n",
       "      <td>NaN</td>\n",
       "      <td>NaN</td>\n",
       "      <td>NaN</td>\n",
       "    </tr>\n",
       "    <tr>\n",
       "      <th>33</th>\n",
       "      <td>Guangxi</td>\n",
       "      <td>Mainland China</td>\n",
       "      <td>1/22/2020 12:00</td>\n",
       "      <td>2.0</td>\n",
       "      <td>1.0</td>\n",
       "      <td>NaN</td>\n",
       "      <td>NaN</td>\n",
       "    </tr>\n",
       "    <tr>\n",
       "      <th>15</th>\n",
       "      <td>Hainan</td>\n",
       "      <td>Mainland China</td>\n",
       "      <td>1/21/2020</td>\n",
       "      <td>NaN</td>\n",
       "      <td>1.0</td>\n",
       "      <td>NaN</td>\n",
       "      <td>NaN</td>\n",
       "    </tr>\n",
       "    <tr>\n",
       "      <th>312</th>\n",
       "      <td>Illinois</td>\n",
       "      <td>US</td>\n",
       "      <td>1/25/2020 12:00 PM</td>\n",
       "      <td>1.0</td>\n",
       "      <td>NaN</td>\n",
       "      <td>NaN</td>\n",
       "      <td>NaN</td>\n",
       "    </tr>\n",
       "    <tr>\n",
       "      <th>57</th>\n",
       "      <td>Tibet</td>\n",
       "      <td>China</td>\n",
       "      <td>1/22/2020 12:00</td>\n",
       "      <td>NaN</td>\n",
       "      <td>NaN</td>\n",
       "      <td>NaN</td>\n",
       "      <td>NaN</td>\n",
       "    </tr>\n",
       "  </tbody>\n",
       "</table>\n",
       "</div>"
      ],
      "text/plain": [
       "    Province/State         Country   Date last updated  Confirmed  Suspected  \\\n",
       "165        Tianjin  Mainland China  1/24/2020 12:00 PM        8.0        NaN   \n",
       "33         Guangxi  Mainland China     1/22/2020 12:00        2.0        1.0   \n",
       "15          Hainan  Mainland China           1/21/2020        NaN        1.0   \n",
       "312       Illinois              US  1/25/2020 12:00 PM        1.0        NaN   \n",
       "57           Tibet           China     1/22/2020 12:00        NaN        NaN   \n",
       "\n",
       "     Recovered  Deaths  \n",
       "165        NaN     NaN  \n",
       "33         NaN     NaN  \n",
       "15         NaN     NaN  \n",
       "312        NaN     NaN  \n",
       "57         NaN     NaN  "
      ]
     },
     "execution_count": 10,
     "metadata": {},
     "output_type": "execute_result"
    }
   ],
   "source": [
    "# Создание испытательного набора\n",
    "from sklearn.model_selection import train_test_split\n",
    "\n",
    "train_set, test_set = train_test_split(data, test_size=0.2, random_state=42)\n",
    "print(len(train_set), \"train +\", len(test_set), \"test\")\n",
    "test_set.head()"
   ]
  },
  {
   "cell_type": "code",
   "execution_count": 11,
   "metadata": {},
   "outputs": [
    {
     "data": {
      "text/plain": [
       "<matplotlib.axes._subplots.AxesSubplot at 0x2415d81efd0>"
      ]
     },
     "execution_count": 11,
     "metadata": {},
     "output_type": "execute_result"
    },
    {
     "data": {
      "image/png": "[encoded data removed]",
      "text/plain": [
       "<Figure size 720x504 with 2 Axes>"
      ]
     },
     "metadata": {
      "needs_background": "light"
     },
     "output_type": "display_data"
    }
   ],
   "source": [
    "#s - радиус\n",
    "# с - цвет\n",
    "data.plot(kind=\"scatter\", x=\"Recovered\", y=\"Confirmed\", alpha=0.5, s=data[\"Recovered\"], \n",
    "          figsize=(10,7), cmap=plt.get_cmap(\"jet\"), colorbar=True, label=\"Confirmed(Recovered)\")"
   ]
  },
  {
   "cell_type": "code",
   "execution_count": 12,
   "metadata": {},
   "outputs": [
    {
     "data": {
      "text/plain": [
       "Deaths       1.000000\n",
       "Confirmed    0.994090\n",
       "Recovered    0.919208\n",
       "Suspected         NaN\n",
       "Name: Deaths, dtype: float64"
      ]
     },
     "execution_count": 12,
     "metadata": {},
     "output_type": "execute_result"
    }
   ],
   "source": [
    "#Корреляция по коэффициенту корреляции Пирсона\n",
    "corr_matrix = data.corr()\n",
    "\n",
    "corr_matrix[\"Deaths\"].sort_values(ascending=False)"
   ]
  },
  {
   "cell_type": "code",
   "execution_count": 13,
   "metadata": {},
   "outputs": [
    {
     "data": {
      "text/plain": [
       "array([[<matplotlib.axes._subplots.AxesSubplot object at 0x000002415D81E470>,\n",
       "        <matplotlib.axes._subplots.AxesSubplot object at 0x000002415D958EF0>,\n",
       "        <matplotlib.axes._subplots.AxesSubplot object at 0x000002415D9914A8>,\n",
       "        <matplotlib.axes._subplots.AxesSubplot object at 0x000002415D9C1A58>],\n",
       "       [<matplotlib.axes._subplots.AxesSubplot object at 0x000002415DA00048>,\n",
       "        <matplotlib.axes._subplots.AxesSubplot object at 0x000002415DA315F8>,\n",
       "        <matplotlib.axes._subplots.AxesSubplot object at 0x000002415DA62BA8>,\n",
       "        <matplotlib.axes._subplots.AxesSubplot object at 0x000002415DAA21D0>],\n",
       "       [<matplotlib.axes._subplots.AxesSubplot object at 0x000002415DAA2208>,\n",
       "        <matplotlib.axes._subplots.AxesSubplot object at 0x000002415DB05CF8>,\n",
       "        <matplotlib.axes._subplots.AxesSubplot object at 0x000002415DB432E8>,\n",
       "        <matplotlib.axes._subplots.AxesSubplot object at 0x000002415DB70898>],\n",
       "       [<matplotlib.axes._subplots.AxesSubplot object at 0x000002415DBA5E48>,\n",
       "        <matplotlib.axes._subplots.AxesSubplot object at 0x000002415DBE2438>,\n",
       "        <matplotlib.axes._subplots.AxesSubplot object at 0x000002415DC129E8>,\n",
       "        <matplotlib.axes._subplots.AxesSubplot object at 0x000002415DC47F98>]],\n",
       "      dtype=object)"
      ]
     },
     "execution_count": 13,
     "metadata": {},
     "output_type": "execute_result"
    },
    {
     "data": {
      "image/png": "[encoded data removed]",
      "text/plain": [
       "<Figure size 864x576 with 16 Axes>"
      ]
     },
     "metadata": {
      "needs_background": "light"
     },
     "output_type": "display_data"
    }
   ],
   "source": [
    "#Тоже корреляция - вычерчивает каждый числовой атрибут по отношению к каждому другому числовому атрибуту\n",
    "from pandas.plotting import scatter_matrix\n",
    "\n",
    "scatter_matrix(data, figsize=(12,8))"
   ]
  },
  {
   "cell_type": "code",
   "execution_count": null,
   "metadata": {},
   "outputs": [],
   "source": []
  },
  {
   "cell_type": "code",
   "execution_count": null,
   "metadata": {},
   "outputs": [],
   "source": []
  },
  {
   "cell_type": "code",
   "execution_count": null,
   "metadata": {},
   "outputs": [],
   "source": []
  }
 ],
 "metadata": {
  "kernelspec": {
   "display_name": "Python 3",
   "language": "python",
   "name": "python3"
  },
  "language_info": {
   "codemirror_mode": {
    "name": "ipython",
    "version": 3
   },
   "file_extension": ".py",
   "mimetype": "text/x-python",
   "name": "python",
   "nbconvert_exporter": "python",
   "pygments_lexer": "ipython3",
   "version": "3.7.0"
  }
 },
 "nbformat": 4,
 "nbformat_minor": 4
}
